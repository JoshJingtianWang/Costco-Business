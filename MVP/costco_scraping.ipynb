{
 "cells": [
  {
   "cell_type": "markdown",
   "id": "5c0f0753-f5cb-4e75-9288-70f026ffe9bb",
   "metadata": {},
   "source": [
    "# Scraping Costco Warehouse Location Data"
   ]
  },
  {
   "cell_type": "code",
   "execution_count": 1,
   "id": "9e969a34-1bc4-4f4e-8fb2-174d326efa84",
   "metadata": {
    "tags": []
   },
   "outputs": [],
   "source": [
    "import pandas as pd\n",
    "import requests, bs4, re\n",
    "from bs4 import BeautifulSoup as bs\n",
    "from time import sleep\n",
    "from selenium import webdriver"
   ]
  },
  {
   "cell_type": "code",
   "execution_count": 2,
   "id": "0e5669ce-a3b2-4d60-aa69-d94491a5213b",
   "metadata": {},
   "outputs": [],
   "source": [
    "d = webdriver.Chrome()\n",
    "d.get('https://www.costco.com/WarehouseListByStateDisplayView')\n",
    "sleep(10)\n",
    "#d.close()"
   ]
  },
  {
   "cell_type": "code",
   "execution_count": 44,
   "id": "7e2da15e-2a25-4b1a-9432-0c1cf00bf5bd",
   "metadata": {},
   "outputs": [],
   "source": [
    "#US states\n",
    "states = {\n",
    "    'AK': 'Alaska',\n",
    "    'AL': 'Alabama',\n",
    "    'AR': 'Arkansas',\n",
    "    'AZ': 'Arizona',\n",
    "    'CA': 'California',\n",
    "    'CO': 'Colorado',\n",
    "    'CT': 'Connecticut',\n",
    "    'DC': 'District of Columbia',\n",
    "    'DE': 'Delaware',\n",
    "    'FL': 'Florida',\n",
    "    'GA': 'Georgia',\n",
    "    'HI': 'Hawaii',\n",
    "    'IA': 'Iowa',\n",
    "    'ID': 'Idaho',\n",
    "    'IL': 'Illinois',\n",
    "    'IN': 'Indiana',\n",
    "    'KS': 'Kansas',\n",
    "    'KY': 'Kentucky',\n",
    "    'LA': 'Louisiana',\n",
    "    'MA': 'Massachusetts',\n",
    "    'MD': 'Maryland',\n",
    "    'ME': 'Maine',\n",
    "    'MI': 'Michigan',\n",
    "    'MN': 'Minnesota',\n",
    "    'MO': 'Missouri',\n",
    "    'MS': 'Mississippi',\n",
    "    'MT': 'Montana',\n",
    "    'NC': 'North Carolina',\n",
    "    'ND': 'North Dakota',\n",
    "    'NE': 'Nebraska',\n",
    "    'NH': 'New Hampshire',\n",
    "    'NJ': 'New Jersey',\n",
    "    'NM': 'New Mexico',\n",
    "    'NV': 'Nevada',\n",
    "    'NY': 'New York',\n",
    "    'OH': 'Ohio',\n",
    "    'OK': 'Oklahoma',\n",
    "    'OR': 'Oregon',\n",
    "    'PA': 'Pennsylvania',\n",
    "    'PR': 'Puerto Rico',\n",
    "    'RI': 'Rhode Island',\n",
    "    'SC': 'South Carolina',\n",
    "    'SD': 'South Dakota',\n",
    "    'TN': 'Tennessee',\n",
    "    'TX': 'Texas',\n",
    "    'UT': 'Utah',\n",
    "    'VA': 'Virginia',\n",
    "    'VT': 'Vermont',\n",
    "    'WA': 'Washington',\n",
    "    'WI': 'Wisconsin',\n",
    "    'WV': 'West Virginia',\n",
    "    'WY': 'Wyoming'\n",
    "}\n",
    "states=list(states.values())"
   ]
  },
  {
   "cell_type": "code",
   "execution_count": 99,
   "id": "a92a7d7c-3549-48cd-8cbc-f729a9a4f1bf",
   "metadata": {
    "tags": []
   },
   "outputs": [
    {
     "name": "stderr",
     "output_type": "stream",
     "text": [
      "<ipython-input-99-d5bca97ccaac>:5: DeprecationWarning: find_element_by_* commands are deprecated. Please use find_element() instead\n",
      "  b=d.find_element_by_link_text(state) #https://www.geeksforgeeks.org/click-button-by-text-using-python-and-selenium/\n"
     ]
    }
   ],
   "source": [
    "#scraping location info\n",
    "\n",
    "storelocations={}\n",
    "\n",
    "for state in states:\n",
    "    \n",
    "    b=d.find_element_by_link_text(state) #https://www.geeksforgeeks.org/click-button-by-text-using-python-and-selenium/\n",
    "    b.click()\n",
    "    sleep(2)\n",
    "    s = bs(d.page_source, 'html.parser').find(\"div\", {\"id\": \"warehouse-by-state-accordion-collapse-panel\"})\n",
    "    stores=s.find_all(\"div\")\n",
    "    \n",
    "    for store in stores:\n",
    "        if store.has_attr('data-warehouse'):\n",
    "            \n",
    "            storename=store.find('a', {\"class\": \"warehouse-name h6-style-guide-link\"}).text\n",
    "            statestorename=state+'_'+storename\n",
    "            storelocations[statestorename]={}\n",
    "            \n",
    "            storeaddress=store.find('div', {\"class\": \"h6-style-guide\"})\n",
    "            streetaddress=storeaddress.next.strip()\n",
    "            city=storeaddress.next.next.next.strip().split(',')[0]\n",
    "            zipcode=storeaddress.next.next.next.strip().split()[-1]\n",
    "            storelocations[statestorename]['streetaddress']=streetaddress\n",
    "            storelocations[statestorename]['city']=city\n",
    "            storelocations[statestorename]['state']=state\n",
    "            storelocations[statestorename]['zipcode']=zipcode\n",
    "            \n",
    "            storephone=store.find('a', {\"class\": \"body-copy-link\"}).text\n",
    "            storelocations[statestorename]['phonenumber']=storephone.strip()\n",
    "            \n",
    "            \n",
    "            \n",
    "            icons=store.find_all('i')\n",
    "            iconlist=[]\n",
    "            for icon in icons:\n",
    "                iconlist.append(icon.attrs['class'][0])\n",
    "            if 'wl-food-court' in iconlist:\n",
    "                storelocations[statestorename]['food_court']=1\n",
    "            if 'wl-gas-station' in iconlist:\n",
    "                storelocations[statestorename]['gas_station']=1\n",
    "            if 'wl-hearing-aid' in iconlist:\n",
    "                storelocations[statestorename]['hearing_aid']=1\n",
    "            if 'wl-optical' in iconlist:\n",
    "                storelocations[statestorename]['vision_center']=1\n",
    "            if 'wl-rx' in iconlist:\n",
    "                storelocations[statestorename]['pharmacy']=1\n",
    "            if 'wl-tire-center' in iconlist:\n",
    "                storelocations[statestorename]['tire_center']=1\n",
    "            if 'wl-business' in iconlist:\n",
    "                storelocations[statestorename]['business_center']=1\n"
   ]
  },
  {
   "cell_type": "code",
   "execution_count": 101,
   "id": "32cae901-cb4c-4b46-82b7-207991314b0f",
   "metadata": {
    "tags": []
   },
   "outputs": [
    {
     "data": {
      "text/plain": [
       "607"
      ]
     },
     "execution_count": 101,
     "metadata": {},
     "output_type": "execute_result"
    }
   ],
   "source": [
    "len(storelocations)"
   ]
  },
  {
   "cell_type": "code",
   "execution_count": 102,
   "id": "47d773e5-fc60-416d-9196-e7b94569517a",
   "metadata": {},
   "outputs": [],
   "source": [
    "d.close()"
   ]
  },
  {
   "cell_type": "code",
   "execution_count": 103,
   "id": "53943819-b891-41ad-ac6d-57ae99df0535",
   "metadata": {},
   "outputs": [],
   "source": [
    "storelocationdf =pd.DataFrame.from_dict(storelocations,orient='index')"
   ]
  },
  {
   "cell_type": "code",
   "execution_count": 108,
   "id": "4f96fa9f-f749-4c51-ac4c-b76d2286f304",
   "metadata": {},
   "outputs": [
    {
     "data": {
      "text/html": [
       "<div>\n",
       "<style scoped>\n",
       "    .dataframe tbody tr th:only-of-type {\n",
       "        vertical-align: middle;\n",
       "    }\n",
       "\n",
       "    .dataframe tbody tr th {\n",
       "        vertical-align: top;\n",
       "    }\n",
       "\n",
       "    .dataframe thead th {\n",
       "        text-align: right;\n",
       "    }\n",
       "</style>\n",
       "<table border=\"1\" class=\"dataframe\">\n",
       "  <thead>\n",
       "    <tr style=\"text-align: right;\">\n",
       "      <th></th>\n",
       "      <th>streetaddress</th>\n",
       "      <th>city</th>\n",
       "      <th>state</th>\n",
       "      <th>zipcode</th>\n",
       "      <th>phonenumber</th>\n",
       "      <th>food_court</th>\n",
       "      <th>gas_station</th>\n",
       "      <th>hearing_aid</th>\n",
       "      <th>vision_center</th>\n",
       "      <th>pharmacy</th>\n",
       "      <th>tire_center</th>\n",
       "      <th>business_center</th>\n",
       "    </tr>\n",
       "  </thead>\n",
       "  <tbody>\n",
       "    <tr>\n",
       "      <th>Alaska_Anchorage</th>\n",
       "      <td>330 W DIMOND BLVD</td>\n",
       "      <td>ANCHORAGE</td>\n",
       "      <td>Alaska</td>\n",
       "      <td>99515-1950</td>\n",
       "      <td>(907) 349-2335</td>\n",
       "      <td>1.0</td>\n",
       "      <td>1.0</td>\n",
       "      <td>1.0</td>\n",
       "      <td>1.0</td>\n",
       "      <td>1.0</td>\n",
       "      <td>1.0</td>\n",
       "      <td>NaN</td>\n",
       "    </tr>\n",
       "    <tr>\n",
       "      <th>Alaska_Fairbanks</th>\n",
       "      <td>48 COLLEGE RD</td>\n",
       "      <td>FAIRBANKS</td>\n",
       "      <td>Alaska</td>\n",
       "      <td>99701-1706</td>\n",
       "      <td>(907) 205-3607</td>\n",
       "      <td>1.0</td>\n",
       "      <td>1.0</td>\n",
       "      <td>1.0</td>\n",
       "      <td>1.0</td>\n",
       "      <td>1.0</td>\n",
       "      <td>1.0</td>\n",
       "      <td>NaN</td>\n",
       "    </tr>\n",
       "    <tr>\n",
       "      <th>Alaska_Juneau</th>\n",
       "      <td>5225 COMMERCIAL BLVD</td>\n",
       "      <td>JUNEAU</td>\n",
       "      <td>Alaska</td>\n",
       "      <td>99801-7210</td>\n",
       "      <td>(907) 780-6740</td>\n",
       "      <td>1.0</td>\n",
       "      <td>NaN</td>\n",
       "      <td>1.0</td>\n",
       "      <td>1.0</td>\n",
       "      <td>1.0</td>\n",
       "      <td>1.0</td>\n",
       "      <td>NaN</td>\n",
       "    </tr>\n",
       "    <tr>\n",
       "      <th>Alaska_NE Anchorage</th>\n",
       "      <td>4125 DEBARR RD</td>\n",
       "      <td>ANCHORAGE</td>\n",
       "      <td>Alaska</td>\n",
       "      <td>99508-3115</td>\n",
       "      <td>(907) 269-9510</td>\n",
       "      <td>1.0</td>\n",
       "      <td>1.0</td>\n",
       "      <td>1.0</td>\n",
       "      <td>1.0</td>\n",
       "      <td>1.0</td>\n",
       "      <td>1.0</td>\n",
       "      <td>NaN</td>\n",
       "    </tr>\n",
       "    <tr>\n",
       "      <th>Alabama_Hoover</th>\n",
       "      <td>3650 GALLERIA CIR</td>\n",
       "      <td>HOOVER</td>\n",
       "      <td>Alabama</td>\n",
       "      <td>35244-2346</td>\n",
       "      <td>(205) 909-1039</td>\n",
       "      <td>1.0</td>\n",
       "      <td>1.0</td>\n",
       "      <td>1.0</td>\n",
       "      <td>1.0</td>\n",
       "      <td>1.0</td>\n",
       "      <td>1.0</td>\n",
       "      <td>NaN</td>\n",
       "    </tr>\n",
       "  </tbody>\n",
       "</table>\n",
       "</div>"
      ],
      "text/plain": [
       "                            streetaddress       city    state     zipcode  \\\n",
       "Alaska_Anchorage        330 W DIMOND BLVD  ANCHORAGE   Alaska  99515-1950   \n",
       "Alaska_Fairbanks            48 COLLEGE RD  FAIRBANKS   Alaska  99701-1706   \n",
       "Alaska_Juneau        5225 COMMERCIAL BLVD     JUNEAU   Alaska  99801-7210   \n",
       "Alaska_NE Anchorage        4125 DEBARR RD  ANCHORAGE   Alaska  99508-3115   \n",
       "Alabama_Hoover          3650 GALLERIA CIR     HOOVER  Alabama  35244-2346   \n",
       "\n",
       "                        phonenumber  food_court  gas_station  hearing_aid  \\\n",
       "Alaska_Anchorage     (907) 349-2335         1.0          1.0          1.0   \n",
       "Alaska_Fairbanks     (907) 205-3607         1.0          1.0          1.0   \n",
       "Alaska_Juneau        (907) 780-6740         1.0          NaN          1.0   \n",
       "Alaska_NE Anchorage  (907) 269-9510         1.0          1.0          1.0   \n",
       "Alabama_Hoover       (205) 909-1039         1.0          1.0          1.0   \n",
       "\n",
       "                     vision_center  pharmacy  tire_center  business_center  \n",
       "Alaska_Anchorage               1.0       1.0          1.0              NaN  \n",
       "Alaska_Fairbanks               1.0       1.0          1.0              NaN  \n",
       "Alaska_Juneau                  1.0       1.0          1.0              NaN  \n",
       "Alaska_NE Anchorage            1.0       1.0          1.0              NaN  \n",
       "Alabama_Hoover                 1.0       1.0          1.0              NaN  "
      ]
     },
     "execution_count": 108,
     "metadata": {},
     "output_type": "execute_result"
    }
   ],
   "source": [
    "storelocationdf.head(5)"
   ]
  },
  {
   "cell_type": "code",
   "execution_count": 111,
   "id": "d4a26a58-3e78-49aa-bb9a-2f6ebe3998b3",
   "metadata": {},
   "outputs": [],
   "source": [
    "storelocationdf.to_csv('costcolocations.csv')"
   ]
  },
  {
   "cell_type": "code",
   "execution_count": null,
   "id": "94bfd3d1-619c-4849-ac56-266ef63cd421",
   "metadata": {},
   "outputs": [],
   "source": []
  }
 ],
 "metadata": {
  "kernelspec": {
   "display_name": "Python 3",
   "language": "python",
   "name": "python3"
  },
  "language_info": {
   "codemirror_mode": {
    "name": "ipython",
    "version": 3
   },
   "file_extension": ".py",
   "mimetype": "text/x-python",
   "name": "python",
   "nbconvert_exporter": "python",
   "pygments_lexer": "ipython3",
   "version": "3.8.8"
  }
 },
 "nbformat": 4,
 "nbformat_minor": 5
}
